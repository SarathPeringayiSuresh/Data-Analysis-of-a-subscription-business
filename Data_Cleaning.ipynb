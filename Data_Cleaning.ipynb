{
 "cells": [
  {
   "cell_type": "code",
   "execution_count": 1,
   "id": "a05fc909",
   "metadata": {},
   "outputs": [],
   "source": [
    "# Importing the packages\n",
    "import pandas as pd\n",
    "import numpy as np\n",
    "import matplotlib.pyplot as plt\n",
    "import seaborn as sns"
   ]
  },
  {
   "cell_type": "code",
   "execution_count": 2,
   "id": "babc8564",
   "metadata": {},
   "outputs": [],
   "source": [
    "# Importing the data sets\n",
    "demographics_df = pd.read_csv(\"demographics.csv\")\n",
    "referral_df = pd.read_csv(\"referral.csv\")\n",
    "transactions_df = pd.read_csv(\"transactions.csv\")\n",
    "subscription_prices = pd.read_json(\"subscription_prices.json\", orient='index')"
   ]
  },
  {
   "cell_type": "markdown",
   "id": "ca0b031d",
   "metadata": {},
   "source": [
    "### Exploring demographics_df's Properties"
   ]
  },
  {
   "cell_type": "code",
   "execution_count": 3,
   "id": "b4246eca",
   "metadata": {},
   "outputs": [
    {
     "data": {
      "text/html": [
       "<div>\n",
       "<style scoped>\n",
       "    .dataframe tbody tr th:only-of-type {\n",
       "        vertical-align: middle;\n",
       "    }\n",
       "\n",
       "    .dataframe tbody tr th {\n",
       "        vertical-align: top;\n",
       "    }\n",
       "\n",
       "    .dataframe thead th {\n",
       "        text-align: right;\n",
       "    }\n",
       "</style>\n",
       "<table border=\"1\" class=\"dataframe\">\n",
       "  <thead>\n",
       "    <tr style=\"text-align: right;\">\n",
       "      <th></th>\n",
       "      <th>cust_id</th>\n",
       "      <th>customer_gender</th>\n",
       "      <th>age_group</th>\n",
       "      <th>customer_country</th>\n",
       "    </tr>\n",
       "  </thead>\n",
       "  <tbody>\n",
       "    <tr>\n",
       "      <th>0</th>\n",
       "      <td>1_cust</td>\n",
       "      <td>Male</td>\n",
       "      <td>35-44</td>\n",
       "      <td>Denmark</td>\n",
       "    </tr>\n",
       "    <tr>\n",
       "      <th>1</th>\n",
       "      <td>2_cust</td>\n",
       "      <td>Other</td>\n",
       "      <td>18-24</td>\n",
       "      <td>Denmark</td>\n",
       "    </tr>\n",
       "    <tr>\n",
       "      <th>2</th>\n",
       "      <td>3_cust</td>\n",
       "      <td>Other</td>\n",
       "      <td>25-34</td>\n",
       "      <td>Norway</td>\n",
       "    </tr>\n",
       "    <tr>\n",
       "      <th>3</th>\n",
       "      <td>4</td>\n",
       "      <td>Male</td>\n",
       "      <td>18-24</td>\n",
       "      <td>Sweden</td>\n",
       "    </tr>\n",
       "    <tr>\n",
       "      <th>4</th>\n",
       "      <td>5_cust</td>\n",
       "      <td>Other</td>\n",
       "      <td>35-44</td>\n",
       "      <td>Sweden</td>\n",
       "    </tr>\n",
       "    <tr>\n",
       "      <th>5</th>\n",
       "      <td>6_cust</td>\n",
       "      <td>Other</td>\n",
       "      <td>55-65</td>\n",
       "      <td>Sweden</td>\n",
       "    </tr>\n",
       "    <tr>\n",
       "      <th>6</th>\n",
       "      <td>7</td>\n",
       "      <td>Other</td>\n",
       "      <td>25-34</td>\n",
       "      <td>Sweden</td>\n",
       "    </tr>\n",
       "    <tr>\n",
       "      <th>7</th>\n",
       "      <td>8_cust</td>\n",
       "      <td>Other</td>\n",
       "      <td>45-54</td>\n",
       "      <td>Sweden</td>\n",
       "    </tr>\n",
       "    <tr>\n",
       "      <th>8</th>\n",
       "      <td>9_cust</td>\n",
       "      <td>Female</td>\n",
       "      <td>25-34</td>\n",
       "      <td>Sweden</td>\n",
       "    </tr>\n",
       "    <tr>\n",
       "      <th>9</th>\n",
       "      <td>10</td>\n",
       "      <td>Other</td>\n",
       "      <td>25-34</td>\n",
       "      <td>Finland</td>\n",
       "    </tr>\n",
       "  </tbody>\n",
       "</table>\n",
       "</div>"
      ],
      "text/plain": [
       "  cust_id customer_gender age_group customer_country\n",
       "0  1_cust            Male     35-44          Denmark\n",
       "1  2_cust           Other     18-24          Denmark\n",
       "2  3_cust           Other     25-34           Norway\n",
       "3       4            Male     18-24           Sweden\n",
       "4  5_cust           Other     35-44           Sweden\n",
       "5  6_cust           Other     55-65           Sweden\n",
       "6       7           Other     25-34           Sweden\n",
       "7  8_cust           Other     45-54           Sweden\n",
       "8  9_cust          Female     25-34           Sweden\n",
       "9      10           Other     25-34          Finland"
      ]
     },
     "execution_count": 3,
     "metadata": {},
     "output_type": "execute_result"
    }
   ],
   "source": [
    "demographics_df.head(10)"
   ]
  },
  {
   "cell_type": "code",
   "execution_count": 4,
   "id": "e3ffced3",
   "metadata": {},
   "outputs": [
    {
     "name": "stdout",
     "output_type": "stream",
     "text": [
      "<class 'pandas.core.frame.DataFrame'>\n",
      "RangeIndex: 10366 entries, 0 to 10365\n",
      "Data columns (total 4 columns):\n",
      " #   Column            Non-Null Count  Dtype \n",
      "---  ------            --------------  ----- \n",
      " 0   cust_id           10366 non-null  object\n",
      " 1   customer_gender   10366 non-null  object\n",
      " 2   age_group         10366 non-null  object\n",
      " 3   customer_country  10366 non-null  object\n",
      "dtypes: object(4)\n",
      "memory usage: 324.1+ KB\n"
     ]
    }
   ],
   "source": [
    "demographics_df.info()"
   ]
  },
  {
   "cell_type": "code",
   "execution_count": 5,
   "id": "ab7bdaad",
   "metadata": {},
   "outputs": [
    {
     "name": "stdout",
     "output_type": "stream",
     "text": [
      "There are no null value in any of the columns\n"
     ]
    }
   ],
   "source": [
    "# Checking if any columns in the dataset contain null values\n",
    "cols = demographics_df.columns\n",
    "flag = 0\n",
    "for col in cols:\n",
    "    if demographics_df[col].isnull().sum() > 0:\n",
    "        print(f\"Number of null values in {col} field is {demographics_df[col].isnull().sum()}\")\n",
    "        flag = 1\n",
    "if flag == 0:\n",
    "    print(\"There are no null value in any of the columns\")"
   ]
  },
  {
   "cell_type": "code",
   "execution_count": 6,
   "id": "4ea94c79",
   "metadata": {},
   "outputs": [
    {
     "data": {
      "text/plain": [
       "array(['Male', 'Other', 'Female', 'f', 'm'], dtype=object)"
      ]
     },
     "execution_count": 6,
     "metadata": {},
     "output_type": "execute_result"
    }
   ],
   "source": [
    "#Checking the unique values in the \"customer_gender\" column\n",
    "demographics_df.customer_gender.unique()"
   ]
  },
  {
   "cell_type": "code",
   "execution_count": 7,
   "id": "1f41d3a6",
   "metadata": {},
   "outputs": [
    {
     "data": {
      "text/plain": [
       "array(['Male', 'Other', 'Female'], dtype=object)"
      ]
     },
     "execution_count": 7,
     "metadata": {},
     "output_type": "execute_result"
    }
   ],
   "source": [
    "# Replacing all the \"f\" and \"m\" in the column \"customer_gender\" with \"Female\" and \"Male\" respectively\n",
    "demographics_df.customer_gender.replace(\"f\",\"Female\",inplace=True)\n",
    "demographics_df.customer_gender.replace(\"m\",\"Male\",inplace=True)\n",
    "demographics_df.customer_gender.unique()"
   ]
  },
  {
   "cell_type": "code",
   "execution_count": 8,
   "id": "21311e2e",
   "metadata": {},
   "outputs": [
    {
     "data": {
      "image/png": "[encoded data removed]",
      "text/plain": [
       "<Figure size 432x288 with 1 Axes>"
      ]
     },
     "metadata": {
      "needs_background": "light"
     },
     "output_type": "display_data"
    }
   ],
   "source": [
    "#Creating a bar plot for the number of occurrences of each unique value in the 'customer_gender' column\n",
    "counts = demographics_df.customer_gender.value_counts()\n",
    "plt.bar(counts.index, counts.values)\n",
    "plt.title(\"Amount of each gender in the dataset\")\n",
    "plt.xlabel(\"Gender\")\n",
    "plt.ylabel(\"Count\")\n",
    "plt.show()"
   ]
  },
  {
   "cell_type": "markdown",
   "id": "881bda5f",
   "metadata": {},
   "source": [
    "This graph shows that the dataset seems to have a higher proportion of customers who identify as 'Other' compared to Males and Females. And the number of male and female customers is almost equal."
   ]
  },
  {
   "cell_type": "code",
   "execution_count": 9,
   "id": "395eae4f",
   "metadata": {},
   "outputs": [
    {
     "data": {
      "text/plain": [
       "array(['35-44', '18-24', '25-34', '55-65', '45-54'], dtype=object)"
      ]
     },
     "execution_count": 9,
     "metadata": {},
     "output_type": "execute_result"
    }
   ],
   "source": [
    "#Checking the unique values in the \"age_group\" column\n",
    "demographics_df.age_group.unique()"
   ]
  },
  {
   "cell_type": "code",
   "execution_count": 10,
   "id": "e5f39cff",
   "metadata": {},
   "outputs": [
    {
     "data": {
      "image/png": "[encoded data removed]",
      "text/plain": [
       "<Figure size 432x288 with 1 Axes>"
      ]
     },
     "metadata": {
      "needs_background": "light"
     },
     "output_type": "display_data"
    }
   ],
   "source": [
    "#Creating a bar plot for the number of occurrences of each unique value in the 'age_group' column\n",
    "age_group_counts = demographics_df.age_group.value_counts()\n",
    "plt.bar(age_group_counts.index, age_group_counts.values)\n",
    "plt.title(\"The count of customers in each age group\")\n",
    "plt.xlabel(\"Age group\")\n",
    "plt.ylabel(\"Count\")\n",
    "plt.show()"
   ]
  },
  {
   "cell_type": "markdown",
   "id": "1736b131",
   "metadata": {},
   "source": [
    "This graph shows the count of customers in different age groups, with the highest count in the 18-24 age group, followed by the 25-34 age group.The 35-44 age group has the lowest count."
   ]
  },
  {
   "cell_type": "code",
   "execution_count": 11,
   "id": "d863111e",
   "metadata": {},
   "outputs": [
    {
     "data": {
      "text/plain": [
       "array(['Denmark', 'Norway', 'Sweden', 'Finland', 'Norge', 'Sverige'],\n",
       "      dtype=object)"
      ]
     },
     "execution_count": 11,
     "metadata": {},
     "output_type": "execute_result"
    }
   ],
   "source": [
    "#Checking the unique values in the \"customer_country\" column\n",
    "demographics_df.customer_country.unique()"
   ]
  },
  {
   "cell_type": "code",
   "execution_count": 12,
   "id": "590ab055",
   "metadata": {},
   "outputs": [
    {
     "data": {
      "text/plain": [
       "array(['Denmark', 'Norway', 'Sweden', 'Finland'], dtype=object)"
      ]
     },
     "execution_count": 12,
     "metadata": {},
     "output_type": "execute_result"
    }
   ],
   "source": [
    "# Replacing all the \"Norge\" and \"Sverige\" in the column \"customer_country\" with \"Norway\" and \"Sweden\" respectively\n",
    "demographics_df.customer_country.replace(\"Norge\",\"Norway\",inplace=True)\n",
    "demographics_df.customer_country.replace(\"Sverige\",\"Sweden\",inplace=True)\n",
    "demographics_df.customer_country.unique()"
   ]
  },
  {
   "cell_type": "code",
   "execution_count": 13,
   "id": "40495759",
   "metadata": {},
   "outputs": [
    {
     "data": {
      "image/png": "[encoded data removed]",
      "text/plain": [
       "<Figure size 432x288 with 1 Axes>"
      ]
     },
     "metadata": {
      "needs_background": "light"
     },
     "output_type": "display_data"
    }
   ],
   "source": [
    "#Creating a bar plot for the number of occurrences of each unique value in the 'customer_country' column\n",
    "country_counts = demographics_df.customer_country.value_counts()\n",
    "plt.bar(country_counts.index, country_counts.values)\n",
    "plt.title(\"Each country's customer count\")\n",
    "plt.xlabel(\"Country\")\n",
    "plt.ylabel(\"Count\")\n",
    "plt.show()"
   ]
  },
  {
   "cell_type": "markdown",
   "id": "2aa744ed",
   "metadata": {},
   "source": [
    "The data shows that Sweden has the highest customer count, followed by Denmark. Norway and Finland have relatively lower customer counts."
   ]
  },
  {
   "cell_type": "markdown",
   "id": "2fc524ad",
   "metadata": {},
   "source": [
    "### Exploring referral_df's Properties"
   ]
  },
  {
   "cell_type": "code",
   "execution_count": 14,
   "id": "cfb3da09",
   "metadata": {},
   "outputs": [
    {
     "data": {
      "text/html": [
       "<div>\n",
       "<style scoped>\n",
       "    .dataframe tbody tr th:only-of-type {\n",
       "        vertical-align: middle;\n",
       "    }\n",
       "\n",
       "    .dataframe tbody tr th {\n",
       "        vertical-align: top;\n",
       "    }\n",
       "\n",
       "    .dataframe thead th {\n",
       "        text-align: right;\n",
       "    }\n",
       "</style>\n",
       "<table border=\"1\" class=\"dataframe\">\n",
       "  <thead>\n",
       "    <tr style=\"text-align: right;\">\n",
       "      <th></th>\n",
       "      <th>id</th>\n",
       "      <th>referral_type</th>\n",
       "    </tr>\n",
       "  </thead>\n",
       "  <tbody>\n",
       "    <tr>\n",
       "      <th>0</th>\n",
       "      <td>1</td>\n",
       "      <td>NaN</td>\n",
       "    </tr>\n",
       "    <tr>\n",
       "      <th>1</th>\n",
       "      <td>2</td>\n",
       "      <td>NaN</td>\n",
       "    </tr>\n",
       "    <tr>\n",
       "      <th>2</th>\n",
       "      <td>3</td>\n",
       "      <td>facebook</td>\n",
       "    </tr>\n",
       "    <tr>\n",
       "      <th>3</th>\n",
       "      <td>4</td>\n",
       "      <td>Display</td>\n",
       "    </tr>\n",
       "    <tr>\n",
       "      <th>4</th>\n",
       "      <td>5</td>\n",
       "      <td>NaN</td>\n",
       "    </tr>\n",
       "    <tr>\n",
       "      <th>5</th>\n",
       "      <td>6</td>\n",
       "      <td>facebook</td>\n",
       "    </tr>\n",
       "    <tr>\n",
       "      <th>6</th>\n",
       "      <td>7</td>\n",
       "      <td>facebook</td>\n",
       "    </tr>\n",
       "    <tr>\n",
       "      <th>7</th>\n",
       "      <td>8</td>\n",
       "      <td>facebook</td>\n",
       "    </tr>\n",
       "    <tr>\n",
       "      <th>8</th>\n",
       "      <td>9</td>\n",
       "      <td>facebook</td>\n",
       "    </tr>\n",
       "    <tr>\n",
       "      <th>9</th>\n",
       "      <td>10</td>\n",
       "      <td>NaN</td>\n",
       "    </tr>\n",
       "  </tbody>\n",
       "</table>\n",
       "</div>"
      ],
      "text/plain": [
       "   id referral_type\n",
       "0   1           NaN\n",
       "1   2           NaN\n",
       "2   3      facebook\n",
       "3   4       Display\n",
       "4   5           NaN\n",
       "5   6      facebook\n",
       "6   7      facebook\n",
       "7   8      facebook\n",
       "8   9      facebook\n",
       "9  10           NaN"
      ]
     },
     "execution_count": 14,
     "metadata": {},
     "output_type": "execute_result"
    }
   ],
   "source": [
    "referral_df.head(10)"
   ]
  },
  {
   "cell_type": "code",
   "execution_count": 15,
   "id": "dfe053f8",
   "metadata": {},
   "outputs": [
    {
     "name": "stdout",
     "output_type": "stream",
     "text": [
      "<class 'pandas.core.frame.DataFrame'>\n",
      "RangeIndex: 19141 entries, 0 to 19140\n",
      "Data columns (total 2 columns):\n",
      " #   Column         Non-Null Count  Dtype \n",
      "---  ------         --------------  ----- \n",
      " 0   id             19141 non-null  object\n",
      " 1   referral_type  10996 non-null  object\n",
      "dtypes: object(2)\n",
      "memory usage: 299.2+ KB\n"
     ]
    }
   ],
   "source": [
    "referral_df.info()"
   ]
  },
  {
   "cell_type": "code",
   "execution_count": 16,
   "id": "a48cc517",
   "metadata": {},
   "outputs": [
    {
     "name": "stdout",
     "output_type": "stream",
     "text": [
      "There are null values 8145 in referral_type\n"
     ]
    }
   ],
   "source": [
    "# Checking whether there are any null values in any columns in the dataset\n",
    "cols = referral_df.columns\n",
    "flag = 0\n",
    "for col in cols:\n",
    "    null_values_count = referral_df[col].isnull().sum()\n",
    "    if  null_values_count > 0:\n",
    "        print(f\"There are null values {null_values_count} in {col}\")\n",
    "        flag = 1\n",
    "if flag == 0:\n",
    "    print(\"There are no null value in any of the columns\")"
   ]
  },
  {
   "cell_type": "markdown",
   "id": "88e5f089",
   "metadata": {},
   "source": [
    "This dataset contains 19,141 entries with 2 columns - id and referral_type. The id column has non-null values in all 19,141 entries, whereas referral_type column has only 10,996 non-null values. There are 8145 entries that have nan value this data set.By considering  that they didn't participated in any referral program. These nan values in the DataFrame are replaced with the value “direct subscription”."
   ]
  },
  {
   "cell_type": "code",
   "execution_count": 17,
   "id": "c328775f",
   "metadata": {},
   "outputs": [
    {
     "data": {
      "text/plain": [
       "array([nan, 'facebook', 'Display', 'Organic Search', 'Bing', 'Google Ads',\n",
       "       'Paid Search', 'TV'], dtype=object)"
      ]
     },
     "execution_count": 17,
     "metadata": {},
     "output_type": "execute_result"
    }
   ],
   "source": [
    "#Checking uniques values for referral_type\n",
    "referral_df.referral_type.unique()"
   ]
  },
  {
   "cell_type": "code",
   "execution_count": 18,
   "id": "a7dca415",
   "metadata": {},
   "outputs": [],
   "source": [
    "#replacing nan with \"Direct Subscription\"\n",
    "referral_df.referral_type.replace(np.NaN,\"Direct Subscription\",inplace=True)"
   ]
  },
  {
   "cell_type": "code",
   "execution_count": 19,
   "id": "2cd70499",
   "metadata": {},
   "outputs": [
    {
     "data": {
      "text/plain": [
       "array(['Direct Subscription', 'facebook', 'Display', 'Organic Search',\n",
       "       'Bing', 'Google Ads', 'Paid Search', 'TV'], dtype=object)"
      ]
     },
     "execution_count": 19,
     "metadata": {},
     "output_type": "execute_result"
    }
   ],
   "source": [
    "referral_df.referral_type.unique()"
   ]
  },
  {
   "cell_type": "code",
   "execution_count": 20,
   "id": "5a36dfb2",
   "metadata": {},
   "outputs": [
    {
     "data": {
      "image/png": "[encoded data removed]",
      "text/plain": [
       "<Figure size 576x576 with 1 Axes>"
      ]
     },
     "metadata": {},
     "output_type": "display_data"
    }
   ],
   "source": [
    "#creating a  pie chart to reprasent the participation of customers in different referral program\n",
    "referral_data_counts = referral_df.referral_type.value_counts()\n",
    "colors = sns.color_palette('pastel')[0:5]\n",
    "fig = plt.figure(figsize=(8, 8))\n",
    "plt.pie(referral_data_counts.values, labels = referral_data_counts.index, colors = colors, autopct='%.0f%%')\n",
    "plt.show()"
   ]
  },
  {
   "cell_type": "markdown",
   "id": "587cda65",
   "metadata": {},
   "source": [
    "The above chart shows that the majority of customers (43%) subscribed directly without any refferal channel, while Facebook was the second most popular referral channel with 16% subscriptions. Organic search and paid search were the third and fourth most popular channels with 12% and 10% subscriptions respectively. Google Ads also received 10% subscriptions. The least popular channels were TV, display, and Bing with 4%, 3%, and 2% subscriptions respectively."
   ]
  },
  {
   "cell_type": "markdown",
   "id": "2fedc51d",
   "metadata": {},
   "source": [
    "### Exploring transactions_df's Properties"
   ]
  },
  {
   "cell_type": "code",
   "execution_count": 21,
   "id": "23920e19",
   "metadata": {},
   "outputs": [
    {
     "data": {
      "text/html": [
       "<div>\n",
       "<style scoped>\n",
       "    .dataframe tbody tr th:only-of-type {\n",
       "        vertical-align: middle;\n",
       "    }\n",
       "\n",
       "    .dataframe tbody tr th {\n",
       "        vertical-align: top;\n",
       "    }\n",
       "\n",
       "    .dataframe thead th {\n",
       "        text-align: right;\n",
       "    }\n",
       "</style>\n",
       "<table border=\"1\" class=\"dataframe\">\n",
       "  <thead>\n",
       "    <tr style=\"text-align: right;\">\n",
       "      <th></th>\n",
       "      <th>cust_id</th>\n",
       "      <th>transaction_type</th>\n",
       "      <th>transaction_date</th>\n",
       "      <th>subscription_type</th>\n",
       "    </tr>\n",
       "  </thead>\n",
       "  <tbody>\n",
       "    <tr>\n",
       "      <th>0</th>\n",
       "      <td>1</td>\n",
       "      <td>initial</td>\n",
       "      <td>2020-09-01</td>\n",
       "      <td>BASIC</td>\n",
       "    </tr>\n",
       "    <tr>\n",
       "      <th>1</th>\n",
       "      <td>2</td>\n",
       "      <td>initial</td>\n",
       "      <td>2022-03-01</td>\n",
       "      <td>BASIC</td>\n",
       "    </tr>\n",
       "    <tr>\n",
       "      <th>2</th>\n",
       "      <td>3</td>\n",
       "      <td>initial</td>\n",
       "      <td>2020-10-01</td>\n",
       "      <td>MAX</td>\n",
       "    </tr>\n",
       "    <tr>\n",
       "      <th>3</th>\n",
       "      <td>4</td>\n",
       "      <td>initial</td>\n",
       "      <td>2022-05-01</td>\n",
       "      <td>PRO</td>\n",
       "    </tr>\n",
       "    <tr>\n",
       "      <th>4</th>\n",
       "      <td>5</td>\n",
       "      <td>initial</td>\n",
       "      <td>2022-08-01</td>\n",
       "      <td>BASIC</td>\n",
       "    </tr>\n",
       "    <tr>\n",
       "      <th>5</th>\n",
       "      <td>6</td>\n",
       "      <td>initial</td>\n",
       "      <td>2022-06-01</td>\n",
       "      <td>MAX</td>\n",
       "    </tr>\n",
       "    <tr>\n",
       "      <th>6</th>\n",
       "      <td>7</td>\n",
       "      <td>initial</td>\n",
       "      <td>2022-02-01</td>\n",
       "      <td>MAX</td>\n",
       "    </tr>\n",
       "    <tr>\n",
       "      <th>7</th>\n",
       "      <td>8</td>\n",
       "      <td>initial</td>\n",
       "      <td>2021-01-01</td>\n",
       "      <td>BASIC</td>\n",
       "    </tr>\n",
       "    <tr>\n",
       "      <th>8</th>\n",
       "      <td>9</td>\n",
       "      <td>initial</td>\n",
       "      <td>2020-08-01</td>\n",
       "      <td>BASIC</td>\n",
       "    </tr>\n",
       "    <tr>\n",
       "      <th>9</th>\n",
       "      <td>10</td>\n",
       "      <td>initial</td>\n",
       "      <td>2022-09-01</td>\n",
       "      <td>MAX</td>\n",
       "    </tr>\n",
       "  </tbody>\n",
       "</table>\n",
       "</div>"
      ],
      "text/plain": [
       "   cust_id transaction_type transaction_date subscription_type\n",
       "0        1          initial       2020-09-01             BASIC\n",
       "1        2          initial       2022-03-01             BASIC\n",
       "2        3          initial       2020-10-01               MAX\n",
       "3        4          initial       2022-05-01               PRO\n",
       "4        5          initial       2022-08-01             BASIC\n",
       "5        6          initial       2022-06-01               MAX\n",
       "6        7          initial       2022-02-01               MAX\n",
       "7        8          initial       2021-01-01             BASIC\n",
       "8        9          initial       2020-08-01             BASIC\n",
       "9       10          initial       2022-09-01               MAX"
      ]
     },
     "execution_count": 21,
     "metadata": {},
     "output_type": "execute_result"
    }
   ],
   "source": [
    "transactions_df.head(10)"
   ]
  },
  {
   "cell_type": "code",
   "execution_count": 22,
   "id": "049e186c",
   "metadata": {},
   "outputs": [
    {
     "name": "stdout",
     "output_type": "stream",
     "text": [
      "<class 'pandas.core.frame.DataFrame'>\n",
      "RangeIndex: 19141 entries, 0 to 19140\n",
      "Data columns (total 4 columns):\n",
      " #   Column             Non-Null Count  Dtype \n",
      "---  ------             --------------  ----- \n",
      " 0   cust_id            19141 non-null  int64 \n",
      " 1   transaction_type   19141 non-null  object\n",
      " 2   transaction_date   19141 non-null  object\n",
      " 3   subscription_type  19141 non-null  object\n",
      "dtypes: int64(1), object(3)\n",
      "memory usage: 598.3+ KB\n"
     ]
    }
   ],
   "source": [
    "transactions_df.info()"
   ]
  },
  {
   "cell_type": "code",
   "execution_count": 23,
   "id": "815b9b45",
   "metadata": {},
   "outputs": [
    {
     "name": "stdout",
     "output_type": "stream",
     "text": [
      "There are no null value in any of the columns\n"
     ]
    }
   ],
   "source": [
    "#Checking the number of null values in each column\n",
    "cols = transactions_df.columns\n",
    "flag = 0\n",
    "for col in cols:\n",
    "    null_values_count = transactions_df[col].isnull().sum()\n",
    "    if  null_values_count > 0:\n",
    "        print(f\"There are {null_values_count} in {col}\")\n",
    "        flag = 1\n",
    "if flag == 0:\n",
    "    print(\"There are no null value in any of the columns\")"
   ]
  },
  {
   "cell_type": "code",
   "execution_count": 24,
   "id": "6f4459fa",
   "metadata": {},
   "outputs": [
    {
     "data": {
      "text/plain": [
       "array(['initial', 'UPGRADE', ' ', 'REDUCTION', 'CHURN'], dtype=object)"
      ]
     },
     "execution_count": 24,
     "metadata": {},
     "output_type": "execute_result"
    }
   ],
   "source": [
    "#Checking the unique values of the \"transaction_type\" column\n",
    "transactions_df.transaction_type.unique()"
   ]
  },
  {
   "cell_type": "markdown",
   "id": "f4ad239a",
   "metadata": {},
   "source": [
    "Even though in the previous it was showing like there were no null values in the dataset there are some entries in the \"transaction_type\" column which has the value \" \"."
   ]
  },
  {
   "cell_type": "code",
   "execution_count": 25,
   "id": "8657f155",
   "metadata": {},
   "outputs": [
    {
     "name": "stdout",
     "output_type": "stream",
     "text": [
      "47\n"
     ]
    }
   ],
   "source": [
    "# Checking the number of entries with value \" \"\n",
    "count = (transactions_df[\"transaction_type\"] == ' ').sum()\n",
    "print(count)"
   ]
  },
  {
   "cell_type": "code",
   "execution_count": 26,
   "id": "6835578f",
   "metadata": {},
   "outputs": [],
   "source": [
    "# Removing the entries with \" \" as the value for \"transaction_type\".\n",
    "transactions_df.drop(transactions_df[transactions_df[\"transaction_type\"]==\" \"].index, inplace=True)"
   ]
  },
  {
   "cell_type": "code",
   "execution_count": 27,
   "id": "82c015a0",
   "metadata": {},
   "outputs": [
    {
     "name": "stdout",
     "output_type": "stream",
     "text": [
      "0\n"
     ]
    }
   ],
   "source": [
    "# Making sure that rows with \" \" entry for \"transaction_type\" column  got deleted\n",
    "count = (transactions_df[\"transaction_type\"] == ' ').sum()\n",
    "print(count)"
   ]
  },
  {
   "cell_type": "code",
   "execution_count": 28,
   "id": "8186384e",
   "metadata": {},
   "outputs": [],
   "source": [
    "# Replacing \"initial\" with \"INITIAL\" in the data set\n",
    "transactions_df.transaction_type.replace(\"initial\",\"INITIAL\",inplace=True)"
   ]
  },
  {
   "cell_type": "code",
   "execution_count": 29,
   "id": "2e5747e3",
   "metadata": {},
   "outputs": [
    {
     "data": {
      "image/png": "[encoded data removed]",
      "text/plain": [
       "<Figure size 432x288 with 1 Axes>"
      ]
     },
     "metadata": {
      "needs_background": "light"
     },
     "output_type": "display_data"
    }
   ],
   "source": [
    "#Creating a bar plot for the \"transaction_type\" column\n",
    "transaction_type_counts = transactions_df.transaction_type.value_counts()\n",
    "plt.bar(transaction_type_counts.index, transaction_type_counts.values)\n",
    "plt.title(\"Different transactions\")\n",
    "plt.xlabel(\"Transaction type\")\n",
    "plt.ylabel(\"Count\")\n",
    "plt.show()"
   ]
  },
  {
   "cell_type": "markdown",
   "id": "9ee8d1ae",
   "metadata": {},
   "source": [
    "This graph shows that the majority of transactions are initial, followed by upgrade, and then reductions and churn. Out of the total transactions, the most common type of transaction is Initial, with 10,366 transactions, which represents approximately 54.3% of the total transactions."
   ]
  },
  {
   "cell_type": "code",
   "execution_count": 30,
   "id": "389f0e53",
   "metadata": {},
   "outputs": [
    {
     "data": {
      "text/plain": [
       "array(['BASIC', 'MAX', 'PRO', 'pro', 'max'], dtype=object)"
      ]
     },
     "execution_count": 30,
     "metadata": {},
     "output_type": "execute_result"
    }
   ],
   "source": [
    "#Checking the unique values of the \"transaction_type\" column\n",
    "transactions_df.subscription_type.unique()"
   ]
  },
  {
   "cell_type": "markdown",
   "id": "6caae8c1",
   "metadata": {},
   "source": [
    "It shows that for \"MAX\" they have used \"MAX\" and \"max\" and for \"PRO\" they have used \"pro\" and \"PRO\"."
   ]
  },
  {
   "cell_type": "code",
   "execution_count": 31,
   "id": "0abf4be9",
   "metadata": {},
   "outputs": [
    {
     "data": {
      "text/plain": [
       "array(['BASIC', 'MAX', 'PRO'], dtype=object)"
      ]
     },
     "execution_count": 31,
     "metadata": {},
     "output_type": "execute_result"
    }
   ],
   "source": [
    "#Replacing \"pro\" with \"PRO\" and \"max\" with \"MAX\"\n",
    "transactions_df.subscription_type.replace(\"max\",\"MAX\",inplace=True)\n",
    "transactions_df.subscription_type.replace(\"pro\",\"PRO\",inplace=True)\n",
    "transactions_df.subscription_type.unique()"
   ]
  },
  {
   "cell_type": "code",
   "execution_count": 32,
   "id": "2c2b17b3",
   "metadata": {},
   "outputs": [
    {
     "data": {
      "image/png": "[encoded data removed]",
      "text/plain": [
       "<Figure size 432x288 with 1 Axes>"
      ]
     },
     "metadata": {
      "needs_background": "light"
     },
     "output_type": "display_data"
    }
   ],
   "source": [
    "#Creating a bar plot for the \"subscription_type\" column\n",
    "subscription_type_counts = transactions_df.subscription_type.value_counts()\n",
    "plt.bar(subscription_type_counts.index, subscription_type_counts.values)\n",
    "plt.title(\"Subscription Type count\")\n",
    "plt.xlabel(\"Subscription type\")\n",
    "plt.ylabel(\"Count\")\n",
    "plt.show()"
   ]
  },
  {
   "cell_type": "markdown",
   "id": "669dc053",
   "metadata": {},
   "source": [
    "According to this graph, BASIC has the highest number of subscribers, followed by PRO and MAX."
   ]
  },
  {
   "cell_type": "markdown",
   "id": "b2f82602",
   "metadata": {},
   "source": [
    "Now we can create a new column in this dataset to reprasent the amount customers paid for each subscription using the \"subscription_prices.json\" data set"
   ]
  },
  {
   "cell_type": "code",
   "execution_count": 33,
   "id": "4edfe422",
   "metadata": {
    "scrolled": true
   },
   "outputs": [
    {
     "data": {
      "text/html": [
       "<div>\n",
       "<style scoped>\n",
       "    .dataframe tbody tr th:only-of-type {\n",
       "        vertical-align: middle;\n",
       "    }\n",
       "\n",
       "    .dataframe tbody tr th {\n",
       "        vertical-align: top;\n",
       "    }\n",
       "\n",
       "    .dataframe thead th {\n",
       "        text-align: right;\n",
       "    }\n",
       "</style>\n",
       "<table border=\"1\" class=\"dataframe\">\n",
       "  <thead>\n",
       "    <tr style=\"text-align: right;\">\n",
       "      <th></th>\n",
       "      <th>2020</th>\n",
       "      <th>2021</th>\n",
       "      <th>2022</th>\n",
       "    </tr>\n",
       "  </thead>\n",
       "  <tbody>\n",
       "    <tr>\n",
       "      <th>BASIC</th>\n",
       "      <td>33</td>\n",
       "      <td>43</td>\n",
       "      <td>53</td>\n",
       "    </tr>\n",
       "    <tr>\n",
       "      <th>PRO</th>\n",
       "      <td>65</td>\n",
       "      <td>75</td>\n",
       "      <td>85</td>\n",
       "    </tr>\n",
       "    <tr>\n",
       "      <th>MAX</th>\n",
       "      <td>99</td>\n",
       "      <td>109</td>\n",
       "      <td>119</td>\n",
       "    </tr>\n",
       "  </tbody>\n",
       "</table>\n",
       "</div>"
      ],
      "text/plain": [
       "       2020  2021  2022\n",
       "BASIC    33    43    53\n",
       "PRO      65    75    85\n",
       "MAX      99   109   119"
      ]
     },
     "execution_count": 33,
     "metadata": {},
     "output_type": "execute_result"
    }
   ],
   "source": [
    "subscription_prices"
   ]
  },
  {
   "cell_type": "markdown",
   "id": "7c7998e7",
   "metadata": {},
   "source": [
    "From this it is clear that the subscription price depends on the year and type of subsrciption so we can make a new column in the transaction data set. Also if the transaction_type is \"CHURN\" then the subscription price is considered as 0."
   ]
  },
  {
   "cell_type": "code",
   "execution_count": 34,
   "id": "fd26bde7",
   "metadata": {},
   "outputs": [],
   "source": [
    "#Converting \"transaction_date\" column to DateTime format\n",
    "transactions_df.transaction_date = pd.to_datetime(transactions_df.transaction_date)"
   ]
  },
  {
   "cell_type": "code",
   "execution_count": 35,
   "id": "0f6d73a8",
   "metadata": {},
   "outputs": [],
   "source": [
    "# defining a lambda function to calculate price based on date and subscription type\n",
    "get_price = lambda x: 33 if (x.transaction_date.year == 2020 and x.subscription_type == 'BASIC' and x.transaction_type != 'CHURN') else \\\n",
    "                         65 if (x.transaction_date.year == 2020 and x.subscription_type == 'PRO'and x.transaction_type != 'CHURN') else \\\n",
    "                         99 if (x.transaction_date.year == 2020 and x.subscription_type == 'MAX'and x.transaction_type != 'CHURN') else \\\n",
    "                         43 if (x.transaction_date.year == 2021 and x.subscription_type == 'BASIC'and x.transaction_type != 'CHURN') else \\\n",
    "                         75 if (x.transaction_date.year == 2021 and x.subscription_type == 'PRO'and x.transaction_type != 'CHURN') else \\\n",
    "                         109 if (x.transaction_date.year == 2021 and x.subscription_type == 'MAX'and x.transaction_type != 'CHURN') else \\\n",
    "                         53 if (x.transaction_date.year == 2022 and x.subscription_type == 'BASIC'and x.transaction_type != 'CHURN') else \\\n",
    "                         85 if (x.transaction_date.year == 2022 and x.subscription_type == 'PRO'and x.transaction_type != 'CHURN') else \\\n",
    "                         119 if (x.transaction_date.year == 2022 and x.subscription_type == 'MAX'and x.transaction_type != 'CHURN') else 0"
   ]
  },
  {
   "cell_type": "code",
   "execution_count": 36,
   "id": "e386fee2",
   "metadata": {},
   "outputs": [],
   "source": [
    "#Creating a new column named \"subscription_price\" using the previously defined function\n",
    "transactions_df['subscription_price'] = transactions_df.apply(get_price, axis=1)"
   ]
  },
  {
   "cell_type": "code",
   "execution_count": 37,
   "id": "dae35868",
   "metadata": {},
   "outputs": [
    {
     "data": {
      "text/html": [
       "<div>\n",
       "<style scoped>\n",
       "    .dataframe tbody tr th:only-of-type {\n",
       "        vertical-align: middle;\n",
       "    }\n",
       "\n",
       "    .dataframe tbody tr th {\n",
       "        vertical-align: top;\n",
       "    }\n",
       "\n",
       "    .dataframe thead th {\n",
       "        text-align: right;\n",
       "    }\n",
       "</style>\n",
       "<table border=\"1\" class=\"dataframe\">\n",
       "  <thead>\n",
       "    <tr style=\"text-align: right;\">\n",
       "      <th></th>\n",
       "      <th>cust_id</th>\n",
       "      <th>transaction_type</th>\n",
       "      <th>transaction_date</th>\n",
       "      <th>subscription_type</th>\n",
       "      <th>subscription_price</th>\n",
       "    </tr>\n",
       "  </thead>\n",
       "  <tbody>\n",
       "    <tr>\n",
       "      <th>0</th>\n",
       "      <td>1</td>\n",
       "      <td>INITIAL</td>\n",
       "      <td>2020-09-01</td>\n",
       "      <td>BASIC</td>\n",
       "      <td>33</td>\n",
       "    </tr>\n",
       "    <tr>\n",
       "      <th>1</th>\n",
       "      <td>2</td>\n",
       "      <td>INITIAL</td>\n",
       "      <td>2022-03-01</td>\n",
       "      <td>BASIC</td>\n",
       "      <td>53</td>\n",
       "    </tr>\n",
       "    <tr>\n",
       "      <th>2</th>\n",
       "      <td>3</td>\n",
       "      <td>INITIAL</td>\n",
       "      <td>2020-10-01</td>\n",
       "      <td>MAX</td>\n",
       "      <td>99</td>\n",
       "    </tr>\n",
       "    <tr>\n",
       "      <th>3</th>\n",
       "      <td>4</td>\n",
       "      <td>INITIAL</td>\n",
       "      <td>2022-05-01</td>\n",
       "      <td>PRO</td>\n",
       "      <td>85</td>\n",
       "    </tr>\n",
       "    <tr>\n",
       "      <th>4</th>\n",
       "      <td>5</td>\n",
       "      <td>INITIAL</td>\n",
       "      <td>2022-08-01</td>\n",
       "      <td>BASIC</td>\n",
       "      <td>53</td>\n",
       "    </tr>\n",
       "    <tr>\n",
       "      <th>...</th>\n",
       "      <td>...</td>\n",
       "      <td>...</td>\n",
       "      <td>...</td>\n",
       "      <td>...</td>\n",
       "      <td>...</td>\n",
       "    </tr>\n",
       "    <tr>\n",
       "      <th>19136</th>\n",
       "      <td>10192</td>\n",
       "      <td>CHURN</td>\n",
       "      <td>2020-11-01</td>\n",
       "      <td>BASIC</td>\n",
       "      <td>0</td>\n",
       "    </tr>\n",
       "    <tr>\n",
       "      <th>19137</th>\n",
       "      <td>10193</td>\n",
       "      <td>CHURN</td>\n",
       "      <td>2022-07-01</td>\n",
       "      <td>PRO</td>\n",
       "      <td>0</td>\n",
       "    </tr>\n",
       "    <tr>\n",
       "      <th>19138</th>\n",
       "      <td>10207</td>\n",
       "      <td>CHURN</td>\n",
       "      <td>2021-10-01</td>\n",
       "      <td>PRO</td>\n",
       "      <td>0</td>\n",
       "    </tr>\n",
       "    <tr>\n",
       "      <th>19139</th>\n",
       "      <td>10262</td>\n",
       "      <td>CHURN</td>\n",
       "      <td>2021-08-01</td>\n",
       "      <td>BASIC</td>\n",
       "      <td>0</td>\n",
       "    </tr>\n",
       "    <tr>\n",
       "      <th>19140</th>\n",
       "      <td>10363</td>\n",
       "      <td>CHURN</td>\n",
       "      <td>2022-02-01</td>\n",
       "      <td>BASIC</td>\n",
       "      <td>0</td>\n",
       "    </tr>\n",
       "  </tbody>\n",
       "</table>\n",
       "<p>19094 rows × 5 columns</p>\n",
       "</div>"
      ],
      "text/plain": [
       "       cust_id transaction_type transaction_date subscription_type  \\\n",
       "0            1          INITIAL       2020-09-01             BASIC   \n",
       "1            2          INITIAL       2022-03-01             BASIC   \n",
       "2            3          INITIAL       2020-10-01               MAX   \n",
       "3            4          INITIAL       2022-05-01               PRO   \n",
       "4            5          INITIAL       2022-08-01             BASIC   \n",
       "...        ...              ...              ...               ...   \n",
       "19136    10192            CHURN       2020-11-01             BASIC   \n",
       "19137    10193            CHURN       2022-07-01               PRO   \n",
       "19138    10207            CHURN       2021-10-01               PRO   \n",
       "19139    10262            CHURN       2021-08-01             BASIC   \n",
       "19140    10363            CHURN       2022-02-01             BASIC   \n",
       "\n",
       "       subscription_price  \n",
       "0                      33  \n",
       "1                      53  \n",
       "2                      99  \n",
       "3                      85  \n",
       "4                      53  \n",
       "...                   ...  \n",
       "19136                   0  \n",
       "19137                   0  \n",
       "19138                   0  \n",
       "19139                   0  \n",
       "19140                   0  \n",
       "\n",
       "[19094 rows x 5 columns]"
      ]
     },
     "execution_count": 37,
     "metadata": {},
     "output_type": "execute_result"
    }
   ],
   "source": [
    "transactions_df"
   ]
  },
  {
   "cell_type": "markdown",
   "id": "ae148f77",
   "metadata": {},
   "source": [
    "### Joining the dataframes to form the final data set"
   ]
  },
  {
   "cell_type": "markdown",
   "id": "a346250f",
   "metadata": {},
   "source": [
    "Now the final data set can be created by combining all the above 3 dataframes using \"cust_id\" as the key. But except for the \"transactions_df\" the \"cust_id\" column in other two dataframes are having the data type as object and in the \"demographics_df\" \"cust_id\" is is a combination of number and string. So in the next step the \"cust_id\" is converted to a form that can be used for combining the dataframes."
   ]
  },
  {
   "cell_type": "code",
   "execution_count": 38,
   "id": "bceb19c4",
   "metadata": {},
   "outputs": [],
   "source": [
    "#Renaming the column \"id\" in referral_df with \"cust_id\"\n",
    "referral_df.rename(columns = {'id':'cust_id'}, inplace = True)"
   ]
  },
  {
   "cell_type": "code",
   "execution_count": 39,
   "id": "e8bda694",
   "metadata": {},
   "outputs": [],
   "source": [
    "#Replacing the \"str\" ids to integer values\n",
    "demographics_df['cust_id'] = demographics_df['cust_id'].str.extract('(\\d+)', expand=False).astype(int)    \n",
    "referral_df['cust_id'] = referral_df['cust_id'].str.extract('(\\d+)', expand=False).astype(int)"
   ]
  },
  {
   "cell_type": "markdown",
   "id": "944c9756",
   "metadata": {},
   "source": [
    "##### Making the final data set"
   ]
  },
  {
   "cell_type": "code",
   "execution_count": 40,
   "id": "7f9e181f",
   "metadata": {},
   "outputs": [
    {
     "name": "stdout",
     "output_type": "stream",
     "text": [
      "Number of elements in demographics_df is:10366 \n",
      " Number of elements in referral_df is:19141 \n",
      " Number of elements in transactions_df is:19094\n"
     ]
    }
   ],
   "source": [
    "print(f\"Number of elements in demographics_df is:{demographics_df.shape[0]} \\n Number of elements in referral_df is:{referral_df.shape[0]} \\n Number of elements in transactions_df is:{transactions_df.shape[0]}\")"
   ]
  },
  {
   "cell_type": "code",
   "execution_count": 55,
   "id": "4028459e",
   "metadata": {},
   "outputs": [
    {
     "data": {
      "text/plain": [
       "(19080, 9)"
      ]
     },
     "execution_count": 55,
     "metadata": {},
     "output_type": "execute_result"
    }
   ],
   "source": [
    "#Making the final dataset by merging all the dataframes using \"cust_id\" as key\n",
    "final_df = pd.merge(demographics_df,referral_df, on = \"cust_id\", how = \"inner\")\n",
    "final_df = pd.merge(final_df,transactions_df, on = \"cust_id\", how = \"inner\")\n",
    "final_df = final_df.drop_duplicates()\n",
    "final_df.shape"
   ]
  }
 ],
 "metadata": {
  "kernelspec": {
   "display_name": "Python 3 (ipykernel)",
   "language": "python",
   "name": "python3"
  },
  "language_info": {
   "codemirror_mode": {
    "name": "ipython",
    "version": 3
   },
   "file_extension": ".py",
   "mimetype": "text/x-python",
   "name": "python",
   "nbconvert_exporter": "python",
   "pygments_lexer": "ipython3",
   "version": "3.9.7"
  }
 },
 "nbformat": 4,
 "nbformat_minor": 5
}
